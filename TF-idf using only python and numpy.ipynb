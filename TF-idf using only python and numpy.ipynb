{
 "cells": [
  {
   "cell_type": "code",
   "execution_count": 1,
   "metadata": {
    "collapsed": true
   },
   "outputs": [],
   "source": [
    "import numpy as np\n",
    "from collections import Counter"
   ]
  },
  {
   "cell_type": "code",
   "execution_count": 6,
   "metadata": {
    "collapsed": true
   },
   "outputs": [],
   "source": [
    "mydocList = [\"this car got the excellence award\",\\\n",
    "         \"good car gives good mileage\",\\\n",
    "         \"this car is very expensive\",\\\n",
    "         \"the company is growing with very high production\",\\\n",
    "         \"this company is financially good\"]"
   ]
  },
  {
   "cell_type": "code",
   "execution_count": 3,
   "metadata": {
    "collapsed": true
   },
   "outputs": [],
   "source": [
    "tokens = list(map(lambda x:set(x.split(\" \")),mydocList))"
   ]
  },
  {
   "cell_type": "code",
   "execution_count": 4,
   "metadata": {
    "collapsed": false
   },
   "outputs": [
    {
     "data": {
      "text/plain": [
       "[{'award', 'car', 'excellence', 'got', 'the', 'this'},\n",
       " {'car', 'gives', 'good', 'mileage'},\n",
       " {'car', 'expensive', 'is', 'this', 'very'},\n",
       " {'company', 'growing', 'high', 'is', 'production', 'the', 'very', 'with'},\n",
       " {'company', 'financially', 'good', 'is', 'this'}]"
      ]
     },
     "execution_count": 4,
     "metadata": {},
     "output_type": "execute_result"
    }
   ],
   "source": [
    "tokens"
   ]
  },
  {
   "cell_type": "code",
   "execution_count": 9,
   "metadata": {
    "collapsed": false
   },
   "outputs": [
    {
     "name": "stdout",
     "output_type": "stream",
     "text": [
      "this\n",
      "car\n",
      "got\n",
      "the\n",
      "excellence\n",
      "award\n",
      "dict_items([('award', 1), ('this', 1), ('the', 1), ('car', 1), ('excellence', 1), ('got', 1)])\n",
      "good\n",
      "car\n",
      "gives\n",
      "good\n",
      "mileage\n",
      "dict_items([('mileage', 1), ('gives', 1), ('good', 2), ('car', 1)])\n",
      "this\n",
      "car\n",
      "is\n",
      "very\n",
      "expensive\n",
      "dict_items([('this', 1), ('expensive', 1), ('is', 1), ('very', 1), ('car', 1)])\n",
      "the\n",
      "company\n",
      "is\n",
      "growing\n",
      "with\n",
      "very\n",
      "high\n",
      "production\n",
      "dict_items([('is', 1), ('production', 1), ('with', 1), ('the', 1), ('company', 1), ('growing', 1), ('very', 1), ('high', 1)])\n",
      "this\n",
      "company\n",
      "is\n",
      "financially\n",
      "good\n",
      "dict_items([('this', 1), ('company', 1), ('is', 1), ('good', 1), ('financially', 1)])\n"
     ]
    }
   ],
   "source": [
    "for doc in mydocList:\n",
    "    tf = Counter()\n",
    "    for word in doc.split():\n",
    "        print(word)\n",
    "        tf[word] +=1\n",
    "    print (tf.items())"
   ]
  },
  {
   "cell_type": "code",
   "execution_count": null,
   "metadata": {
    "collapsed": true
   },
   "outputs": [],
   "source": []
  }
 ],
 "metadata": {
  "anaconda-cloud": {},
  "kernelspec": {
   "display_name": "Python [conda env:anaconda]",
   "language": "python",
   "name": "conda-env-anaconda-py"
  },
  "language_info": {
   "codemirror_mode": {
    "name": "ipython",
    "version": 3
   },
   "file_extension": ".py",
   "mimetype": "text/x-python",
   "name": "python",
   "nbconvert_exporter": "python",
   "pygments_lexer": "ipython3",
   "version": "3.5.5"
  }
 },
 "nbformat": 4,
 "nbformat_minor": 2
}
