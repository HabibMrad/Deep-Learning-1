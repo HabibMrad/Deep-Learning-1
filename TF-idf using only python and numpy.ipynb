{
 "cells": [
  {
   "cell_type": "code",
   "execution_count": 1,
   "metadata": {
    "collapsed": true
   },
   "outputs": [],
   "source": [
    "import numpy as np\n",
    "from collections import Counter"
   ]
  },
  {
   "cell_type": "code",
   "execution_count": 6,
   "metadata": {
    "collapsed": true
   },
   "outputs": [],
   "source": [
    "mydocList = [\"this car got the excellence award\",\\\n",
    "         \"good car gives good mileage\",\\\n",
    "         \"this car is very expensive\",\\\n",
    "         \"the company is growing with very high production\",\\\n",
    "         \"this company is financially good\"]"
   ]
  },
  {
   "cell_type": "code",
   "execution_count": 3,
   "metadata": {
    "collapsed": true
   },
   "outputs": [],
   "source": [
    "tokens = list(map(lambda x:set(x.split(\" \")),mydocList))"
   ]
  },
  {
   "cell_type": "code",
   "execution_count": 4,
   "metadata": {
    "collapsed": false
   },
   "outputs": [
    {
     "data": {
      "text/plain": [
       "[{'award', 'car', 'excellence', 'got', 'the', 'this'},\n",
       " {'car', 'gives', 'good', 'mileage'},\n",
       " {'car', 'expensive', 'is', 'this', 'very'},\n",
       " {'company', 'growing', 'high', 'is', 'production', 'the', 'very', 'with'},\n",
       " {'company', 'financially', 'good', 'is', 'this'}]"
      ]
     },
     "execution_count": 4,
     "metadata": {},
     "output_type": "execute_result"
    }
   ],
   "source": [
    "tokens"
   ]
  },
  {
   "cell_type": "code",
   "execution_count": 9,
   "metadata": {
    "collapsed": false
   },
   "outputs": [
    {
     "name": "stdout",
     "output_type": "stream",
     "text": [
      "this\n",
      "car\n",
      "got\n",
      "the\n",
      "excellence\n",
      "award\n",
      "dict_items([('award', 1), ('this', 1), ('the', 1), ('car', 1), ('excellence', 1), ('got', 1)])\n",
      "good\n",
      "car\n",
      "gives\n",
      "good\n",
      "mileage\n",
      "dict_items([('mileage', 1), ('gives', 1), ('good', 2), ('car', 1)])\n",
      "this\n",
      "car\n",
      "is\n",
      "very\n",
      "expensive\n",
      "dict_items([('this', 1), ('expensive', 1), ('is', 1), ('very', 1), ('car', 1)])\n",
      "the\n",
      "company\n",
      "is\n",
      "growing\n",
      "with\n",
      "very\n",
      "high\n",
      "production\n",
      "dict_items([('is', 1), ('production', 1), ('with', 1), ('the', 1), ('company', 1), ('growing', 1), ('very', 1), ('high', 1)])\n",
      "this\n",
      "company\n",
      "is\n",
      "financially\n",
      "good\n",
      "dict_items([('this', 1), ('company', 1), ('is', 1), ('good', 1), ('financially', 1)])\n"
     ]
    }
   ],
   "source": [
    "for doc in mydocList:\n",
    "    tf = Counter()\n",
    "    for word in doc.split():\n",
    "        print(word)\n",
    "        tf[word] +=1\n",
    "    print (tf.items())"
   ]
  },
  {
   "cell_type": "code",
   "execution_count": 10,
   "metadata": {
    "collapsed": true
   },
   "outputs": [],
   "source": [
    "import string"
   ]
  },
  {
   "cell_type": "code",
   "execution_count": 11,
   "metadata": {
    "collapsed": true
   },
   "outputs": [],
   "source": [
    "def build_lexicon(corpus):\n",
    "    lexicon = set()\n",
    "    for doc in corpus:\n",
    "        lexicon.update([word for word in doc.split()])\n",
    "    return lexicon"
   ]
  },
  {
   "cell_type": "code",
   "execution_count": 12,
   "metadata": {
    "collapsed": true
   },
   "outputs": [],
   "source": [
    "def tf(term, document):\n",
    "    return freq(term, document)\n",
    "\n",
    "def freq(term, document):\n",
    "    return document.split().count(term)"
   ]
  },
  {
   "cell_type": "code",
   "execution_count": 14,
   "metadata": {
    "collapsed": false
   },
   "outputs": [],
   "source": [
    "vocabulary = build_lexicon(mydocList)"
   ]
  },
  {
   "cell_type": "code",
   "execution_count": 15,
   "metadata": {
    "collapsed": false
   },
   "outputs": [
    {
     "data": {
      "text/plain": [
       "{'award',\n",
       " 'car',\n",
       " 'company',\n",
       " 'excellence',\n",
       " 'expensive',\n",
       " 'financially',\n",
       " 'gives',\n",
       " 'good',\n",
       " 'got',\n",
       " 'growing',\n",
       " 'high',\n",
       " 'is',\n",
       " 'mileage',\n",
       " 'production',\n",
       " 'the',\n",
       " 'this',\n",
       " 'very',\n",
       " 'with'}"
      ]
     },
     "execution_count": 15,
     "metadata": {},
     "output_type": "execute_result"
    }
   ],
   "source": [
    "vocabulary"
   ]
  },
  {
   "cell_type": "code",
   "execution_count": 18,
   "metadata": {
    "collapsed": false
   },
   "outputs": [],
   "source": [
    "doc_term_matrix = []"
   ]
  },
  {
   "cell_type": "code",
   "execution_count": 24,
   "metadata": {
    "collapsed": false
   },
   "outputs": [
    {
     "data": {
      "text/plain": [
       "2"
      ]
     },
     "execution_count": 24,
     "metadata": {},
     "output_type": "execute_result"
    }
   ],
   "source": [
    "mydocList.index(\"this car got the excellence award\")+2"
   ]
  },
  {
   "cell_type": "code",
   "execution_count": 28,
   "metadata": {
    "collapsed": false
   },
   "outputs": [
    {
     "name": "stdout",
     "output_type": "stream",
     "text": [
      "Our vocabulary vector is [very, expensive, company, high, financially, gives, got, car, is, award, production, good, growing, this, the, with, mileage, excellence]\n",
      "The doc is \"this car got the excellence award\"\n",
      "The tf vector for Document 1 is [0, 0, 0, 0, 0, 0, 1, 1, 0, 1, 0, 0, 0, 1, 1, 0, 0, 1]\n",
      "The doc is \"good car gives good mileage\"\n",
      "The tf vector for Document 2 is [0, 0, 0, 0, 0, 1, 0, 1, 0, 0, 0, 2, 0, 0, 0, 0, 1, 0]\n",
      "The doc is \"this car is very expensive\"\n",
      "The tf vector for Document 3 is [1, 1, 0, 0, 0, 0, 0, 1, 1, 0, 0, 0, 0, 1, 0, 0, 0, 0]\n",
      "The doc is \"the company is growing with very high production\"\n",
      "The tf vector for Document 4 is [1, 0, 1, 1, 0, 0, 0, 0, 1, 0, 1, 0, 1, 0, 1, 1, 0, 0]\n",
      "The doc is \"this company is financially good\"\n",
      "The tf vector for Document 5 is [0, 0, 1, 0, 1, 0, 0, 0, 1, 0, 0, 1, 0, 1, 0, 0, 0, 0]\n",
      "All combined, here is our master document term matrix: \n",
      "[[0, 0, 0, 0, 0, 0, 1, 1, 0, 1, 0, 0, 0, 1, 1, 0, 0, 1], [0, 0, 0, 0, 0, 1, 0, 1, 0, 0, 0, 2, 0, 0, 0, 0, 1, 0], [1, 1, 0, 0, 0, 0, 0, 1, 1, 0, 0, 0, 0, 1, 0, 0, 0, 0], [1, 0, 1, 1, 0, 0, 0, 0, 1, 0, 1, 0, 1, 0, 1, 1, 0, 0], [0, 0, 1, 0, 1, 0, 0, 0, 1, 0, 0, 1, 0, 1, 0, 0, 0, 0]]\n"
     ]
    }
   ],
   "source": [
    "print ('Our vocabulary vector is [' + ', '.join(list(vocabulary)) + ']')\n",
    "for doc in mydocList:\n",
    "    print ('The doc is \"' + doc + '\"')\n",
    "    tf_vector = [tf(word, doc) for word in vocabulary]\n",
    "    tf_vector_string = ', '.join(format(freq, 'd') for freq in tf_vector)\n",
    "    print ('The tf vector for Document %d is [%s]' % ((mydocList.index(doc)+1), tf_vector_string))\n",
    "    doc_term_matrix.append(tf_vector)\n",
    "    \n",
    "    # here's a test: why did I wrap mydoclist.index(doc)+1 in parens?  it returns an int...\n",
    "    # try it!  type(mydoclist.index(doc) + 1)\n",
    "\n",
    "print ('All combined, here is our master document term matrix: ')\n",
    "print (doc_term_matrix)"
   ]
  },
  {
   "cell_type": "code",
   "execution_count": null,
   "metadata": {
    "collapsed": true
   },
   "outputs": [],
   "source": []
  }
 ],
 "metadata": {
  "anaconda-cloud": {},
  "kernelspec": {
   "display_name": "Python [conda env:anaconda]",
   "language": "python",
   "name": "conda-env-anaconda-py"
  },
  "language_info": {
   "codemirror_mode": {
    "name": "ipython",
    "version": 3
   },
   "file_extension": ".py",
   "mimetype": "text/x-python",
   "name": "python",
   "nbconvert_exporter": "python",
   "pygments_lexer": "ipython3",
   "version": "3.5.5"
  }
 },
 "nbformat": 4,
 "nbformat_minor": 2
}
