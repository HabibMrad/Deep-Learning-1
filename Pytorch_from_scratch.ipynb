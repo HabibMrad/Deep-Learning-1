{
 "cells": [
  {
   "cell_type": "code",
   "execution_count": 5,
   "metadata": {
    "collapsed": true
   },
   "outputs": [],
   "source": [
    "import numpy as np"
   ]
  },
  {
   "cell_type": "code",
   "execution_count": 4,
   "metadata": {
    "collapsed": false
   },
   "outputs": [],
   "source": [
    "class Tensor:\n",
    "    def __init__(self,data,autograd=False,creators=None,creation_ops=None):\n",
    "        self.data = np.array(data)\n",
    "        self.creators = creators\n",
    "        self.creation_ops = creation_ops\n",
    "        self.autograd = autograd\n",
    "        self.children = {}\n",
    "        if(id is None):\n",
    "            id = np.random.randint(10000)\n",
    "        self.id = id\n",
    "        \n",
    "        self.grad = None\n",
    "    def __add__(self,other):\n",
    "        return Tensor(self.data + other.data)\n",
    "    def __repr__(self):\n",
    "        return str(self.data.__repr__())\n",
    "    def __str__(self):\n",
    "        return str(self.data.__str__())"
   ]
  },
  {
   "cell_type": "code",
   "execution_count": null,
   "metadata": {
    "collapsed": true
   },
   "outputs": [],
   "source": []
  }
 ],
 "metadata": {
  "kernelspec": {
   "display_name": "Python [conda env:fastai-cpu]",
   "language": "python",
   "name": "conda-env-fastai-cpu-py"
  },
  "language_info": {
   "codemirror_mode": {
    "name": "ipython",
    "version": 3
   },
   "file_extension": ".py",
   "mimetype": "text/x-python",
   "name": "python",
   "nbconvert_exporter": "python",
   "pygments_lexer": "ipython3",
   "version": "3.6.7"
  }
 },
 "nbformat": 4,
 "nbformat_minor": 2
}
