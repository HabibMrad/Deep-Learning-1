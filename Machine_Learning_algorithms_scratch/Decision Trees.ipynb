{
 "cells": [
  {
   "cell_type": "code",
   "execution_count": 2,
   "metadata": {
    "collapsed": true
   },
   "outputs": [],
   "source": [
    "import numpy as np\n",
    "import pandas as pd"
   ]
  },
  {
   "cell_type": "code",
   "execution_count": 19,
   "metadata": {
    "collapsed": true
   },
   "outputs": [],
   "source": [
    "from csv import reader"
   ]
  },
  {
   "cell_type": "code",
   "execution_count": 25,
   "metadata": {
    "collapsed": true
   },
   "outputs": [],
   "source": [
    "def load_csv(filename):\n",
    "    file = open(filename, \"r\")\n",
    "    lines = reader(file)\n",
    "    dataset = list(lines)\n",
    "    return dataset"
   ]
  },
  {
   "cell_type": "code",
   "execution_count": 28,
   "metadata": {
    "collapsed": false
   },
   "outputs": [],
   "source": [
    "dataset = load_csv('data_banknote_authentication.csv')"
   ]
  },
  {
   "cell_type": "code",
   "execution_count": 53,
   "metadata": {
    "collapsed": false
   },
   "outputs": [
    {
     "data": {
      "text/plain": [
       "4"
      ]
     },
     "execution_count": 53,
     "metadata": {},
     "output_type": "execute_result"
    }
   ],
   "source": [
    "class_values = list(set(row[-1] for row in dataset))\n",
    "class_values\n",
    "len(dataset[0]) - 1"
   ]
  },
  {
   "cell_type": "code",
   "execution_count": 39,
   "metadata": {
    "collapsed": false
   },
   "outputs": [
    {
     "data": {
      "text/plain": [
       "89"
      ]
     },
     "execution_count": 39,
     "metadata": {},
     "output_type": "execute_result"
    }
   ],
   "source": [
    "#play around with csv using pandas\n",
    "df = pd.read_csv('data/train_preprocessed.csv')\n",
    "#df.head()\n",
    "df['Survived'].value_counts().apply(lambda x: x/len(df)).tolist()\n",
    "x = df['Age']\n",
    "for val in df['Age'].unique():\n",
    "    left = x <= val\n",
    "len(df['Age'].unique())"
   ]
  },
  {
   "cell_type": "code",
   "execution_count": 45,
   "metadata": {
    "collapsed": false
   },
   "outputs": [
    {
     "data": {
      "text/plain": [
       "0      0.0\n",
       "1      1.0\n",
       "2      1.0\n",
       "3      1.0\n",
       "4      0.0\n",
       "5      0.0\n",
       "6      0.0\n",
       "7      0.0\n",
       "8      1.0\n",
       "9      1.0\n",
       "10     1.0\n",
       "11     1.0\n",
       "12     0.0\n",
       "13     0.0\n",
       "14     0.0\n",
       "15     1.0\n",
       "16     0.0\n",
       "17     1.0\n",
       "18     0.0\n",
       "19     1.0\n",
       "20     0.0\n",
       "21     1.0\n",
       "22     1.0\n",
       "23     1.0\n",
       "24     0.0\n",
       "25     1.0\n",
       "26     0.0\n",
       "27     0.0\n",
       "28     1.0\n",
       "29     0.0\n",
       "      ... \n",
       "861    0.0\n",
       "862    1.0\n",
       "863    0.0\n",
       "864    0.0\n",
       "865    1.0\n",
       "866    1.0\n",
       "867    0.0\n",
       "868    0.0\n",
       "869    1.0\n",
       "870    0.0\n",
       "871    1.0\n",
       "872    0.0\n",
       "873    0.0\n",
       "874    1.0\n",
       "875    1.0\n",
       "876    0.0\n",
       "877    0.0\n",
       "878    0.0\n",
       "879    1.0\n",
       "880    1.0\n",
       "881    0.0\n",
       "882    0.0\n",
       "883    0.0\n",
       "884    0.0\n",
       "885    0.0\n",
       "886    0.0\n",
       "887    1.0\n",
       "888    0.0\n",
       "889    1.0\n",
       "890    0.0\n",
       "Name: Survived, Length: 890, dtype: float64"
      ]
     },
     "execution_count": 45,
     "metadata": {},
     "output_type": "execute_result"
    }
   ],
   "source": [
    "left_data = df[left]\n",
    "left_data\n",
    "left_data['Survived']"
   ]
  },
  {
   "cell_type": "code",
   "execution_count": 56,
   "metadata": {
    "collapsed": false
   },
   "outputs": [],
   "source": [
    "class DecisionTree:\n",
    "    \n",
    "    def __init__(self,max_depth=4,depth=1):\n",
    "        self.max_depth = max_depth\n",
    "        self.depth = depth\n",
    "        self.left = None\n",
    "        self.right = None\n",
    "    \n",
    "    def fit(self,data,target):\n",
    "        self.data = data\n",
    "        self.target = target\n",
    "        self.validate = self.data.columns.tolist()\n",
    "        self.validate.remove(target)\n",
    "    \n",
    "    def predict(self,data):\n",
    "        return np.array([self.__flow_data_thru_tree(row) for row in data.values])\n",
    "    \n",
    "    def __flow_data_thru_tree(self,row):\n",
    "        return self.data[self.target].value_counts().apply(lambda x: x/len(self.data)).tolist()\n",
    "    \n",
    "    def __calculate_impurity_score(self,data):\n",
    "        if not data.empty:\n",
    "            p_i,_ = data.value_counts().apply(lambda x: x/len(data)).tolist()\n",
    "        return p_i * (1 - p_i) * 2\n",
    "    \n",
    "    def __find_best_split_for_column(self,col):\n",
    "        x = self.data[col]\n",
    "        unique_values = x.unique()\n",
    "        if len(unique_values) == 1:\n",
    "            return None,None\n",
    "        information_gain = None\n",
    "        split = None\n",
    "        for val in unique_values:\n",
    "            left = x <= val\n",
    "            right = x > val\n",
    "        left_data = self.data[left]\n",
    "        right_data = self.data[right]\n",
    "        left_impurity = self.__calculate_impurity_score(left_data[self.target])\n",
    "        right_impurity = self.__calculate_impurity_score(right_data[self.target])\n",
    "        score = self.__calculate_information_gain(left_count = len(left_data),\n",
    "                                                 left_impurity = left_impurity,\n",
    "                                                 right_count = len(right_data),\n",
    "                                                 right_impurity = right_impurity)\n",
    "        if information_gain is None or score > information_gain:\n",
    "            information_gain = score\n",
    "            split = val\n",
    "        return information_gain, split\n",
    "    \n",
    "    def __calculate_information_gain(self, left_count, left_impurity, right_count, right_impurity):\n",
    "        return self.impurity_score - ((left_count/len(self.data)) * left_impurity + (right_count/len(self.data)) * right_impurity)\n",
    "    \n",
    "    def __find_best_split(self):\n",
    "        best_split = {}\n",
    "        for col in self.independent:\n",
    "            information_gain,split = self.__find_best_split_for_column(col)\n",
    "            if split is None: \n",
    "                continue\n",
    "            if not best_split or best_split[\"information_gain\"] < information_gain:\n",
    "                best_split = {\"split\": split, \n",
    "                          \"col\": col, \n",
    "                          \"information_gain\": information_gain\n",
    "                              }\n",
    "        return best_split[\"split\"],best_split[\"col\"]\n",
    "    \n",
    "    def __create_branches(self):\n",
    "        self.left = DecisionTree(max_depth=self.max_depth,depth=self.depth +1)\n",
    "        self.right = DecisionTree(max_depth=self.max_depth,depth=self.depth +1)\n",
    "        left_rows = self.data[self.data[self.split_feature] <= self.criteria] \n",
    "        right_rows = self.data[self.data[self.split_feature] > self.criteria] \n",
    "        self.left.fit(data = left_rows, target = self.target)\n",
    "        self.right.fit(data = right_rows, target = self.target)\n",
    "    \n",
    "    \n",
    "    @property\n",
    "    def is_leaf_node(self): return self.left is None\n",
    "    \n",
    "    @property\n",
    "    def probability(self): \n",
    "        return self.data[self.target].value_counts().apply(lambda x: x/len(self.data)).tolist()\n",
    "\n",
    "    \n",
    "    "
   ]
  },
  {
   "cell_type": "code",
   "execution_count": 34,
   "metadata": {
    "collapsed": false
   },
   "outputs": [
    {
     "data": {
      "text/plain": [
       "-1.3862943611198906"
      ]
     },
     "execution_count": 34,
     "metadata": {},
     "output_type": "execute_result"
    }
   ],
   "source": [
    "np.log()"
   ]
  },
  {
   "cell_type": "code",
   "execution_count": null,
   "metadata": {
    "collapsed": true
   },
   "outputs": [],
   "source": []
  }
 ],
 "metadata": {
  "anaconda-cloud": {},
  "kernelspec": {
   "display_name": "Python [conda env:anaconda]",
   "language": "python",
   "name": "conda-env-anaconda-py"
  },
  "language_info": {
   "codemirror_mode": {
    "name": "ipython",
    "version": 3
   },
   "file_extension": ".py",
   "mimetype": "text/x-python",
   "name": "python",
   "nbconvert_exporter": "python",
   "pygments_lexer": "ipython3",
   "version": "3.5.5"
  }
 },
 "nbformat": 4,
 "nbformat_minor": 2
}
