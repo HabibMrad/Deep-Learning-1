{
 "cells": [
  {
   "cell_type": "code",
   "execution_count": 1,
   "metadata": {
    "collapsed": true
   },
   "outputs": [],
   "source": [
    "import numpy as np"
   ]
  },
  {
   "cell_type": "code",
   "execution_count": 10,
   "metadata": {
    "collapsed": false
   },
   "outputs": [],
   "source": [
    "a = np.array([[1,230.1,37.8,69.2], [1,44.5,39.3,45.1], [1,17.2,45.9,69.3], [1,151.5,41.3,58.5], [1,180.8,10.8,58.4]])"
   ]
  },
  {
   "cell_type": "code",
   "execution_count": 7,
   "metadata": {
    "collapsed": true
   },
   "outputs": [],
   "source": [
    "mean_data = np.array([\n",
    "[6.0, 315.0, 4.8123788544375692e-06],\n",
    "[6.5, 0.0, 2.259217450023793e-06],\n",
    "[6.5, 45.0, 9.2823565008402673e-06],\n",
    "[6.5, 90.0, 8.309270169336028e-06],\n",
    "[6.5, 135.0, 6.4709418114245381e-05],\n",
    "[6.5, 180.0, 1.7227922423558414e-05],\n",
    "[6.5, 225.0, 1.2308522579848724e-05],\n",
    "[6.5, 270.0, 2.6905672894824344e-05],\n",
    "[6.5, 315.0, 2.2727114437176048e-05]])"
   ]
  },
  {
   "cell_type": "code",
   "execution_count": 9,
   "metadata": {
    "collapsed": true
   },
   "outputs": [],
   "source": [
    "b = np.array([22.1,10.4,9.3,18.5,12.8])"
   ]
  },
  {
   "cell_type": "code",
   "execution_count": 12,
   "metadata": {
    "collapsed": false
   },
   "outputs": [],
   "source": [
    " c = np.matmul(a.T,a)"
   ]
  },
  {
   "cell_type": "code",
   "execution_count": 13,
   "metadata": {
    "collapsed": false
   },
   "outputs": [
    {
     "data": {
      "text/plain": [
       "array([[  5.00000000e+00,   6.24100000e+02,   1.75100000e+02,\n",
       "          3.00500000e+02],\n",
       "       [  6.24100000e+02,   1.10862990e+05,   1.94457000e+04,\n",
       "          3.85433000e+04],\n",
       "       [  1.75100000e+02,   1.94457000e+04,   6.90247000e+03,\n",
       "          1.06158300e+04],\n",
       "       [  3.00500000e+02,   3.85433000e+04,   1.06158300e+04,\n",
       "          1.84579500e+04]])"
      ]
     },
     "execution_count": 13,
     "metadata": {},
     "output_type": "execute_result"
    }
   ],
   "source": [
    "c"
   ]
  },
  {
   "cell_type": "code",
   "execution_count": 14,
   "metadata": {
    "collapsed": true
   },
   "outputs": [],
   "source": [
    "d = np.linalg.inv(c)"
   ]
  },
  {
   "cell_type": "code",
   "execution_count": 15,
   "metadata": {
    "collapsed": false
   },
   "outputs": [
    {
     "data": {
      "text/plain": [
       "array([[  9.95951210e+00,  -2.06193689e-03,  -3.54325183e-02,\n",
       "         -1.37459141e-01],\n",
       "       [ -2.06193689e-03,   4.78625205e-05,   1.69354407e-04,\n",
       "         -1.63777941e-04],\n",
       "       [ -3.54325183e-02,   1.69354407e-04,   1.93426314e-03,\n",
       "         -8.89254474e-04],\n",
       "       [ -1.37459141e-01,  -1.63777941e-04,  -8.89254474e-04,\n",
       "          3.14548411e-03]])"
      ]
     },
     "execution_count": 15,
     "metadata": {},
     "output_type": "execute_result"
    }
   ],
   "source": [
    "d"
   ]
  },
  {
   "cell_type": "code",
   "execution_count": 16,
   "metadata": {
    "collapsed": true
   },
   "outputs": [],
   "source": [
    "e = np.matmul(a.T,b)"
   ]
  },
  {
   "cell_type": "code",
   "execution_count": 17,
   "metadata": {
    "collapsed": false
   },
   "outputs": [
    {
     "data": {
      "text/plain": [
       "array([    73.1 ,  10824.96,   2573.26,   4472.62])"
      ]
     },
     "execution_count": 17,
     "metadata": {},
     "output_type": "execute_result"
    }
   ],
   "source": [
    "e"
   ]
  },
  {
   "cell_type": "code",
   "execution_count": 18,
   "metadata": {
    "collapsed": true
   },
   "outputs": [],
   "source": [
    "f = np.matmul(d,e)"
   ]
  },
  {
   "cell_type": "code",
   "execution_count": 19,
   "metadata": {
    "collapsed": false
   },
   "outputs": [
    {
     "data": {
      "text/plain": [
       "array([-0.25963306,  0.07065871,  0.24320221, -0.04088068])"
      ]
     },
     "execution_count": 19,
     "metadata": {},
     "output_type": "execute_result"
    }
   ],
   "source": [
    "f"
   ]
  },
  {
   "cell_type": "code",
   "execution_count": 30,
   "metadata": {
    "collapsed": false
   },
   "outputs": [],
   "source": [
    "answer = (0 + (250 * f[1]) + (50 * f[2]) + (50 * f[3]))"
   ]
  },
  {
   "cell_type": "code",
   "execution_count": 31,
   "metadata": {
    "collapsed": false
   },
   "outputs": [
    {
     "data": {
      "text/plain": [
       "27.780754382047526"
      ]
     },
     "execution_count": 31,
     "metadata": {},
     "output_type": "execute_result"
    }
   ],
   "source": [
    "answer"
   ]
  },
  {
   "cell_type": "code",
   "execution_count": null,
   "metadata": {
    "collapsed": true
   },
   "outputs": [],
   "source": []
  }
 ],
 "metadata": {
  "anaconda-cloud": {},
  "kernelspec": {
   "display_name": "Python [conda env:anaconda]",
   "language": "python",
   "name": "conda-env-anaconda-py"
  },
  "language_info": {
   "codemirror_mode": {
    "name": "ipython",
    "version": 3
   },
   "file_extension": ".py",
   "mimetype": "text/x-python",
   "name": "python",
   "nbconvert_exporter": "python",
   "pygments_lexer": "ipython3",
   "version": "3.5.2"
  }
 },
 "nbformat": 4,
 "nbformat_minor": 2
}
