{
 "cells": [
  {
   "cell_type": "markdown",
   "metadata": {},
   "source": [
    "# First we will begin with a basic review of numpy"
   ]
  },
  {
   "cell_type": "code",
   "execution_count": 48,
   "metadata": {
    "collapsed": true
   },
   "outputs": [],
   "source": [
    "import numpy as np"
   ]
  },
  {
   "cell_type": "code",
   "execution_count": 2,
   "metadata": {
    "collapsed": true
   },
   "outputs": [],
   "source": [
    "a = np.arange(5)"
   ]
  },
  {
   "cell_type": "code",
   "execution_count": 4,
   "metadata": {
    "collapsed": false
   },
   "outputs": [],
   "source": [
    "b = np.arange(10,15)"
   ]
  },
  {
   "cell_type": "code",
   "execution_count": 5,
   "metadata": {
    "collapsed": false
   },
   "outputs": [
    {
     "data": {
      "text/plain": [
       "130"
      ]
     },
     "execution_count": 5,
     "metadata": {},
     "output_type": "execute_result"
    }
   ],
   "source": [
    "a.dot(b)"
   ]
  },
  {
   "cell_type": "code",
   "execution_count": 7,
   "metadata": {
    "collapsed": false
   },
   "outputs": [
    {
     "data": {
      "text/plain": [
       "130"
      ]
     },
     "execution_count": 7,
     "metadata": {},
     "output_type": "execute_result"
    }
   ],
   "source": [
    "np.sum(a*b)"
   ]
  },
  {
   "cell_type": "code",
   "execution_count": 8,
   "metadata": {
    "collapsed": false
   },
   "outputs": [
    {
     "data": {
      "text/plain": [
       "array([ 0, 11, 24, 39, 56])"
      ]
     },
     "execution_count": 8,
     "metadata": {},
     "output_type": "execute_result"
    }
   ],
   "source": [
    "a*b"
   ]
  },
  {
   "cell_type": "code",
   "execution_count": 9,
   "metadata": {
    "collapsed": true
   },
   "outputs": [],
   "source": [
    "row_vector = np.array([[1, 3, 2]])"
   ]
  },
  {
   "cell_type": "code",
   "execution_count": 10,
   "metadata": {
    "collapsed": true
   },
   "outputs": [],
   "source": [
    "col_vector = np.array([[2], [0], [1]])"
   ]
  },
  {
   "cell_type": "code",
   "execution_count": 11,
   "metadata": {
    "collapsed": false
   },
   "outputs": [
    {
     "data": {
      "text/plain": [
       "array([[4]])"
      ]
     },
     "execution_count": 11,
     "metadata": {},
     "output_type": "execute_result"
    }
   ],
   "source": [
    "row_vector.dot(col_vector)"
   ]
  },
  {
   "cell_type": "code",
   "execution_count": 12,
   "metadata": {
    "collapsed": false
   },
   "outputs": [
    {
     "data": {
      "text/plain": [
       "array([[2, 6, 4],\n",
       "       [0, 0, 0],\n",
       "       [1, 3, 2]])"
      ]
     },
     "execution_count": 12,
     "metadata": {},
     "output_type": "execute_result"
    }
   ],
   "source": [
    "col_vector.dot(row_vector)"
   ]
  },
  {
   "cell_type": "code",
   "execution_count": 14,
   "metadata": {
    "collapsed": false
   },
   "outputs": [
    {
     "data": {
      "text/plain": [
       "(array([2, 0, 1]), array([1, 3, 2]))"
      ]
     },
     "execution_count": 14,
     "metadata": {},
     "output_type": "execute_result"
    }
   ],
   "source": [
    "col_vector.ravel(),row_vector.ravel()"
   ]
  },
  {
   "cell_type": "code",
   "execution_count": 15,
   "metadata": {
    "collapsed": false
   },
   "outputs": [
    {
     "data": {
      "text/plain": [
       "array([[2, 6, 4],\n",
       "       [0, 0, 0],\n",
       "       [1, 3, 2]])"
      ]
     },
     "execution_count": 15,
     "metadata": {},
     "output_type": "execute_result"
    }
   ],
   "source": [
    "np.outer(col_vector.ravel(),row_vector.ravel())"
   ]
  },
  {
   "cell_type": "markdown",
   "metadata": {},
   "source": [
    "# Now onto the real stuff\n",
    "### Comparing word embeddings to fill in the blank"
   ]
  },
  {
   "cell_type": "code",
   "execution_count": 65,
   "metadata": {
    "collapsed": true
   },
   "outputs": [],
   "source": [
    "import sys,random,math\n",
    "from collections import Counter\n",
    "from nltk import word_tokenize"
   ]
  },
  {
   "cell_type": "code",
   "execution_count": 66,
   "metadata": {
    "collapsed": true
   },
   "outputs": [],
   "source": [
    "#Add a seed for randomizing choice which will be explained later\n",
    "np.random.seed(1)"
   ]
  },
  {
   "cell_type": "code",
   "execution_count": 88,
   "metadata": {
    "collapsed": true
   },
   "outputs": [],
   "source": [
    "#This is a list of movie reviews of Imdb file will be uploaded to github later.Example from Andrew Trask's book Grokking\n",
    "#Deep Learning\n",
    "\n",
    "f = open('reviews.txt')\n",
    "raw_reviews = f.readlines()\n",
    "f.close()"
   ]
  },
  {
   "cell_type": "code",
   "execution_count": 70,
   "metadata": {
    "collapsed": false
   },
   "outputs": [],
   "source": [
    "#tokens = word_tokenize(raw_reviews)"
   ]
  },
  {
   "cell_type": "code",
   "execution_count": 89,
   "metadata": {
    "collapsed": false
   },
   "outputs": [],
   "source": [
    "#tokens\n",
    "#split the review array into small arrays of words of each sentence\n",
    "\n",
    "tokens = list(map(lambda x:(x.split(\" \")),raw_reviews))"
   ]
  },
  {
   "cell_type": "code",
   "execution_count": 90,
   "metadata": {
    "collapsed": false
   },
   "outputs": [],
   "source": [
    "wordcnt = Counter()"
   ]
  },
  {
   "cell_type": "code",
   "execution_count": 91,
   "metadata": {
    "collapsed": false
   },
   "outputs": [],
   "source": [
    "for sent in tokens:\n",
    "    for word in sent:\n",
    "        wordcnt[word] -= 1"
   ]
  },
  {
   "cell_type": "code",
   "execution_count": 92,
   "metadata": {
    "collapsed": true
   },
   "outputs": [],
   "source": [
    "# String operations to remove punctuations\n",
    "import string"
   ]
  },
  {
   "cell_type": "code",
   "execution_count": 74,
   "metadata": {
    "collapsed": true
   },
   "outputs": [],
   "source": []
  },
  {
   "cell_type": "code",
   "execution_count": 58,
   "metadata": {
    "collapsed": false
   },
   "outputs": [],
   "source": []
  },
  {
   "cell_type": "code",
   "execution_count": 75,
   "metadata": {
    "collapsed": false
   },
   "outputs": [],
   "source": [
    "## We use the popular stopwords defined in the nltk corpus. \n",
    "from nltk.corpus import stopwords\n",
    "stop_words = stopwords.words('english')\n"
   ]
  },
  {
   "cell_type": "code",
   "execution_count": 76,
   "metadata": {
    "collapsed": true
   },
   "outputs": [],
   "source": [
    "stop_words = set(stopwords.words('english'))"
   ]
  },
  {
   "cell_type": "code",
   "execution_count": 123,
   "metadata": {
    "collapsed": false
   },
   "outputs": [],
   "source": [
    "#tokens = [w for w in tokens if w not in stop_words]"
   ]
  },
  {
   "cell_type": "code",
   "execution_count": 79,
   "metadata": {
    "collapsed": true
   },
   "outputs": [],
   "source": [
    "for word in tokens:\n",
    "    wordcnt[word] -= 1"
   ]
  },
  {
   "cell_type": "code",
   "execution_count": 93,
   "metadata": {
    "collapsed": true
   },
   "outputs": [],
   "source": [
    "vocab = list(set(map(lambda x:x[0],wordcnt.most_common())))"
   ]
  },
  {
   "cell_type": "code",
   "execution_count": 94,
   "metadata": {
    "collapsed": false
   },
   "outputs": [
    {
     "data": {
      "text/plain": [
       "74075"
      ]
     },
     "execution_count": 94,
     "metadata": {},
     "output_type": "execute_result"
    }
   ],
   "source": [
    "len(vocab)"
   ]
  },
  {
   "cell_type": "code",
   "execution_count": null,
   "metadata": {
    "collapsed": false
   },
   "outputs": [],
   "source": []
  },
  {
   "cell_type": "markdown",
   "metadata": {},
   "source": [
    "### Create word to index and reverse dictionary"
   ]
  },
  {
   "cell_type": "code",
   "execution_count": 95,
   "metadata": {
    "collapsed": true
   },
   "outputs": [],
   "source": [
    "word2index = {}\n",
    "index2word = {}\n",
    "for i,word in enumerate(vocab):\n",
    "    word2index[word]=i\n",
    "    index2word[i]=word"
   ]
  },
  {
   "cell_type": "code",
   "execution_count": 96,
   "metadata": {
    "collapsed": false
   },
   "outputs": [
    {
     "data": {
      "text/plain": [
       "('instigation', 9357)"
      ]
     },
     "execution_count": 96,
     "metadata": {},
     "output_type": "execute_result"
    }
   ],
   "source": [
    "index2word[6085],word2index['scopes']"
   ]
  },
  {
   "cell_type": "code",
   "execution_count": 97,
   "metadata": {
    "collapsed": true
   },
   "outputs": [],
   "source": [
    "concatenated = list()\n",
    "input_dataset = list()"
   ]
  },
  {
   "cell_type": "code",
   "execution_count": 98,
   "metadata": {
    "collapsed": true
   },
   "outputs": [],
   "source": [
    "for sent in tokens:\n",
    "    sent_indices = list()\n",
    "    for word in sent:\n",
    "        try:\n",
    "            sent_indices.append(word2index[word])\n",
    "            concatenated.append(word2index[word])\n",
    "        except:\n",
    "            \"\"\n",
    "    input_dataset.append(sent_indices)\n",
    "    "
   ]
  },
  {
   "cell_type": "code",
   "execution_count": 102,
   "metadata": {
    "collapsed": true
   },
   "outputs": [],
   "source": [
    "#concatenated is a list of all the indices of the vocab\n",
    "#input_dataset is a list of sentences with indices of words replacing the actual words\n",
    "concatenated = np.array(concatenated)\n",
    "random.shuffle(input_dataset)"
   ]
  },
  {
   "cell_type": "code",
   "execution_count": null,
   "metadata": {
    "collapsed": false
   },
   "outputs": [],
   "source": []
  },
  {
   "cell_type": "code",
   "execution_count": 115,
   "metadata": {
    "collapsed": true
   },
   "outputs": [],
   "source": [
    "alpha, iterations = (0.05, 2)\n",
    "hidden_size,window,negative = (50,2,5)\n",
    "weights_0_1 = (np.random.rand(len(vocab),hidden_size) - 0.5) * 0.2\n",
    "weights_1_2 = np.random.rand(len(vocab),hidden_size)*0\n",
    "layer_2_target = np.zeros(negative+1)\n",
    "layer_2_target[0] = 1\n",
    "def similar(target='beautiful'):\n",
    "    target_index = word2index[target]\n",
    "\n",
    "    scores = Counter()\n",
    "    for word,index in word2index.items():\n",
    "        \n",
    "        raw_difference = weights_0_1[index] - (weights_0_1[target_index])\n",
    "        squared_difference = raw_difference * raw_difference\n",
    "        scores[word] = -math.sqrt(sum(squared_difference))\n",
    "    return scores.most_common(10)\n"
   ]
  },
  {
   "cell_type": "code",
   "execution_count": 116,
   "metadata": {
    "collapsed": false
   },
   "outputs": [
    {
     "data": {
      "text/plain": [
       "array([[ 0.04962836,  0.01988407, -0.02924894, ...,  0.02235409,\n",
       "        -0.07866708, -0.08212026],\n",
       "       [-0.02437445,  0.06014989, -0.04563997, ..., -0.03621135,\n",
       "        -0.09106698, -0.0571341 ],\n",
       "       [-0.05086565,  0.01672281,  0.02537102, ...,  0.04611479,\n",
       "        -0.06692812, -0.09473534],\n",
       "       ..., \n",
       "       [ 0.04327146,  0.06471183,  0.06579626, ..., -0.08170339,\n",
       "         0.03575512, -0.09422431],\n",
       "       [ 0.09846515,  0.05407922, -0.07341868, ...,  0.02439074,\n",
       "        -0.01956672, -0.02716743],\n",
       "       [ 0.09529182,  0.00331547, -0.05528874, ..., -0.08805801,\n",
       "        -0.07556738, -0.00967705]])"
      ]
     },
     "execution_count": 116,
     "metadata": {},
     "output_type": "execute_result"
    }
   ],
   "source": [
    "weights_0_1"
   ]
  },
  {
   "cell_type": "code",
   "execution_count": 117,
   "metadata": {
    "collapsed": true
   },
   "outputs": [],
   "source": [
    "def sigmoid(x):\n",
    "    return 1/(1 + np.exp(-x))"
   ]
  },
  {
   "cell_type": "code",
   "execution_count": 118,
   "metadata": {
    "collapsed": true
   },
   "outputs": [],
   "source": [
    "import sys,random,math"
   ]
  },
  {
   "cell_type": "code",
   "execution_count": 119,
   "metadata": {
    "collapsed": false
   },
   "outputs": [
    {
     "name": "stdout",
     "output_type": "stream",
     "text": [
      "Progress:4.995"
     ]
    }
   ],
   "source": [
    "for rev_i,review in enumerate(input_dataset * 10):\n",
    "    for target_i in range(len(review)):\n",
    "        \n",
    "        target_samples = [review[target_i]]+list(concatenated\\\n",
    "    [(np.random.rand(negative)*len(concatenated)).astype('int').tolist()])\n",
    "        left_context = review[max(0,target_i-window):target_i]\n",
    "        right_context = review[target_i+1:min(len(review),target_i+window)]\n",
    "        layer_1 = np.mean(weights_0_1[left_context+right_context],axis=0)\n",
    "        layer_2 = sigmoid(layer_1.dot(weights_1_2[target_samples].T))\n",
    "        layer_2_delta = layer_2 - layer_2_target\n",
    "        layer_1_delta = layer_2_delta.dot(weights_1_2[target_samples])\n",
    "        weights_0_1[left_context+right_context] -= layer_1_delta * alpha\n",
    "        weights_1_2[target_samples] -= np.outer(layer_2_delta,layer_1)*alpha\n",
    "    if(rev_i % 250 == 0):\n",
    "        sys.stdout.write('\\rProgress:'+str(rev_i/float(len(input_dataset)\n",
    "        *iterations)) + \"   \" + str(similar('terrible')))\n",
    "        sys.stdout.write('\\rProgress:'+str(rev_i/float(len(input_dataset)\n",
    "        *iterations)))\n",
    "        "
   ]
  },
  {
   "cell_type": "code",
   "execution_count": 120,
   "metadata": {
    "collapsed": false
   },
   "outputs": [
    {
     "name": "stdout",
     "output_type": "stream",
     "text": [
      "[('terrible', -0.0), ('horrible', -2.4754866203702597), ('lame', -3.4387048575178283), ('dreadful', -3.5539998565731437), ('ridiculous', -3.6751871768620124), ('pathetic', -3.6799033008784447), ('brilliant', -3.8682180919265168), ('bad', -3.8752407833336346), ('stupid', -3.9329262050358285), ('dull', -4.038289791874596)]\n"
     ]
    }
   ],
   "source": [
    "print(similar('terrible'))"
   ]
  },
  {
   "cell_type": "code",
   "execution_count": 139,
   "metadata": {
    "collapsed": false
   },
   "outputs": [
    {
     "data": {
      "text/plain": [
       "array([[-0.02309237, -0.33961461, -0.61860407, ..., -0.44784579,\n",
       "        -0.8079342 ,  0.02609339],\n",
       "       [-0.3543827 , -0.45861281,  0.04627791, ...,  0.098861  ,\n",
       "         0.06744006,  0.609333  ],\n",
       "       [-0.08620186,  0.24950204,  0.01597825, ...,  0.24110192,\n",
       "         0.07037026,  0.76157882],\n",
       "       ..., \n",
       "       [-0.16956576, -0.35832148,  0.29649288, ..., -0.25356524,\n",
       "        -0.18207844,  0.29944431],\n",
       "       [-0.70936176,  0.12017149,  0.41595295, ...,  0.52804974,\n",
       "         0.20563586,  0.32338842],\n",
       "       [ 0.35931363,  0.53415009,  0.0473822 , ..., -0.06943643,\n",
       "        -0.08977681, -0.35579795]])"
      ]
     },
     "execution_count": 139,
     "metadata": {},
     "output_type": "execute_result"
    }
   ],
   "source": [
    "weights_0_1"
   ]
  },
  {
   "cell_type": "code",
   "execution_count": 121,
   "metadata": {
    "collapsed": false
   },
   "outputs": [
    {
     "data": {
      "text/plain": [
       "array([[-0.02309237, -0.33961461, -0.61860407, ..., -0.44784579,\n",
       "        -0.8079342 ,  0.02609339],\n",
       "       [-0.3543827 , -0.45861281,  0.04627791, ...,  0.098861  ,\n",
       "         0.06744006,  0.609333  ],\n",
       "       [-0.08620186,  0.24950204,  0.01597825, ...,  0.24110192,\n",
       "         0.07037026,  0.76157882],\n",
       "       ..., \n",
       "       [-0.16956576, -0.35832148,  0.29649288, ..., -0.25356524,\n",
       "        -0.18207844,  0.29944431],\n",
       "       [-0.70936176,  0.12017149,  0.41595295, ...,  0.52804974,\n",
       "         0.20563586,  0.32338842],\n",
       "       [ 0.35931363,  0.53415009,  0.0473822 , ..., -0.06943643,\n",
       "        -0.08977681, -0.35579795]])"
      ]
     },
     "execution_count": 121,
     "metadata": {},
     "output_type": "execute_result"
    }
   ],
   "source": [
    "weights_0_1"
   ]
  },
  {
   "cell_type": "code",
   "execution_count": 125,
   "metadata": {
    "collapsed": false
   },
   "outputs": [
    {
     "data": {
      "text/plain": [
       "[33061, 16378, 0, 57550, 65722, 0]"
      ]
     },
     "execution_count": 125,
     "metadata": {},
     "output_type": "execute_result"
    }
   ],
   "source": [
    "[review[target_i]]+list(concatenated\\\n",
    "    [(np.random.rand(negative)*len(concatenated)).astype('int').tolist()])"
   ]
  },
  {
   "cell_type": "code",
   "execution_count": 127,
   "metadata": {
    "collapsed": false
   },
   "outputs": [
    {
     "data": {
      "text/plain": [
       "[('beautiful', -0.0),\n",
       " ('gorgeous', -3.307808934165823),\n",
       " ('lovely', -3.707893770910298),\n",
       " ('creepy', -3.886914105627391),\n",
       " ('mountainside', -3.934657007488936),\n",
       " ('crotchety', -3.9376593450795383),\n",
       " ('charming', -4.035929591981383),\n",
       " ('colourful', -4.064878067516477),\n",
       " ('luxuriant', -4.106692654897076),\n",
       " ('girlie', -4.115702426529915)]"
      ]
     },
     "execution_count": 127,
     "metadata": {},
     "output_type": "execute_result"
    }
   ],
   "source": [
    "similar('beautiful')"
   ]
  },
  {
   "cell_type": "markdown",
   "metadata": {},
   "source": [
    "## Adding word analogy caluclation\n",
    "### To add word analogy calculation we calculate the sum of the vectors and balance the equation"
   ]
  },
  {
   "cell_type": "code",
   "execution_count": 130,
   "metadata": {
    "collapsed": false
   },
   "outputs": [
    {
     "data": {
      "text/plain": [
       "array([[ 16.98399894],\n",
       "       [  4.61947552],\n",
       "       [ 13.9349861 ],\n",
       "       ..., \n",
       "       [  5.03685611],\n",
       "       [ 17.87903092],\n",
       "       [  4.74135481]])"
      ]
     },
     "execution_count": 130,
     "metadata": {},
     "output_type": "execute_result"
    }
   ],
   "source": [
    "np.sum(weights_0_1 * weights_0_1,axis=1).reshape(74075,1)"
   ]
  },
  {
   "cell_type": "code",
   "execution_count": 136,
   "metadata": {
    "collapsed": false
   },
   "outputs": [],
   "source": [
    "normed_weight = (weights_0_1*(np.sum(weights_0_1 * weights_0_1,axis=1).reshape(74075,1)))"
   ]
  },
  {
   "cell_type": "code",
   "execution_count": 137,
   "metadata": {
    "collapsed": false
   },
   "outputs": [
    {
     "data": {
      "text/plain": [
       "array([ -16.37061507,   34.99174838,   -4.20912844,   56.76490684,\n",
       "         52.03343404,  -11.73584499,  -68.11704798,  -31.36502876,\n",
       "        -23.91079598,  -25.98866284,   65.47682637,  -18.18969689,\n",
       "        -30.3837959 ,  -47.59354102,   99.42739835,   -5.72706995,\n",
       "       -112.03355731,    6.93024198,   49.33171613,  -10.08592312,\n",
       "         24.835001  ,  -33.20260794, -109.35777844,    5.91589421,\n",
       "         33.68829907,  -38.83598405,   -6.18332416,   -9.41422427,\n",
       "         45.36255933,   -2.10007775,  -52.15353617,   -8.37228563,\n",
       "        -14.90395947,   22.00199817,  -34.81305928,   90.18007781,\n",
       "        -30.36409035,  -58.0360945 ,   21.91633809,  -13.77610488,\n",
       "          1.41813938,   53.07162629,  -29.82252822,   42.86978666,\n",
       "        114.51527076,  -25.28018723,   36.05084705,   -0.38610472,\n",
       "         -3.51687398,   12.05135696])"
      ]
     },
     "execution_count": 137,
     "metadata": {},
     "output_type": "execute_result"
    }
   ],
   "source": [
    "normed_weight[44310]"
   ]
  },
  {
   "cell_type": "code",
   "execution_count": 146,
   "metadata": {
    "collapsed": true
   },
   "outputs": [],
   "source": [
    "def analogy_similar(analogy1=[\"king\",\"man\"],analogy2=[\"queen\"]):\n",
    "    norms = np.sum(weights_0_1 * weights_0_1,axis=1)\n",
    "    norms.resize(norms.shape[0],1)\n",
    "    normed_weights = weights_0_1 * norms\n",
    "    query_vect = np.zeros(len(weights_0_1[0]))\n",
    "    for word in analogy1:\n",
    "        query_vect +=  normed_weights[word2index[word]]\n",
    "    for word in analogy2:\n",
    "        query_vect -= normed_weights[word2index[word]]\n",
    "    \n",
    "    scores = Counter()\n",
    "    for word,index in word2index.items():\n",
    "        raw_diff = weights_0_1[index] - query_vect\n",
    "        sq_error = raw_diff ** 2\n",
    "        scores[word] = -math.sqrt(sum(sq_error))\n",
    "    return scores.most_common(10)[1:]\n",
    "        \n",
    "    "
   ]
  },
  {
   "cell_type": "code",
   "execution_count": 147,
   "metadata": {
    "collapsed": false
   },
   "outputs": [
    {
     "data": {
      "text/plain": [
       "[('\\n', -429.6068169910971),\n",
       " ('man', -430.06559087780136),\n",
       " ('king', -430.1363616449812),\n",
       " ('guy', -430.3113933681435),\n",
       " ('viewer', -430.46956154540084),\n",
       " ('reviewer', -430.69623711532455),\n",
       " ('doctor', -430.86925845641196),\n",
       " ('killer', -430.94380406849064),\n",
       " ('woman', -430.98176061560775)]"
      ]
     },
     "execution_count": 147,
     "metadata": {},
     "output_type": "execute_result"
    }
   ],
   "source": [
    "analogy_similar()  ##king + man - woman = doctor???"
   ]
  },
  {
   "cell_type": "code",
   "execution_count": 149,
   "metadata": {
    "collapsed": false
   },
   "outputs": [
    {
     "data": {
      "text/plain": [
       "[('eli', -323.736247590786),\n",
       " ('jonathan', -324.0112338682167),\n",
       " ('leonard', -324.1114241654765),\n",
       " ('karl', -324.2021728697042),\n",
       " ('edgar', -324.27783310890186),\n",
       " ('stephen', -324.3097192410623),\n",
       " ('le', -324.3659046660408),\n",
       " ('jon', -324.36947828113176),\n",
       " ('juliette', -324.4124575442978)]"
      ]
     },
     "execution_count": 149,
     "metadata": {},
     "output_type": "execute_result"
    }
   ],
   "source": [
    "analogy_similar([\"elizabeth\",\"he\"],[\"she\"]) ##not bad"
   ]
  },
  {
   "cell_type": "code",
   "execution_count": null,
   "metadata": {
    "collapsed": true
   },
   "outputs": [],
   "source": []
  }
 ],
 "metadata": {
  "kernelspec": {
   "display_name": "Python [conda env:anaconda]",
   "language": "python",
   "name": "conda-env-anaconda-py"
  },
  "language_info": {
   "codemirror_mode": {
    "name": "ipython",
    "version": 3
   },
   "file_extension": ".py",
   "mimetype": "text/x-python",
   "name": "python",
   "nbconvert_exporter": "python",
   "pygments_lexer": "ipython3",
   "version": "3.5.5"
  }
 },
 "nbformat": 4,
 "nbformat_minor": 2
}
